{
 "cells": [
  {
   "cell_type": "markdown",
   "metadata": {},
   "source": [
    "# Data Visualization Project Part 1"
   ]
  },
  {
   "cell_type": "code",
   "execution_count": 2,
   "metadata": {},
   "outputs": [],
   "source": [
    "import pandas as pd\n",
    "import numpy as np\n",
    "import matplotlib.pyplot as plt\n",
    "import random "
   ]
  },
  {
   "cell_type": "code",
   "execution_count": 3,
   "metadata": {},
   "outputs": [],
   "source": [
    "student_info = {'Name': ['Jamie Sunday', 'Sophie Jones', 'Megan Smith', 'Nathanial Christo', 'Jessica Wilson',\n",
    "                         'Brenton Loiselle', 'Emily Brown','Sid Enochs', 'Rogelio Nolan', 'Lou Granillo',\n",
    "                         'Olivia Rodriguez', 'Heath Heater', 'Bruce Keas', 'Chloe Gracia', 'Lucy Davis', \n",
    "                         'Hannah Miller', 'Adolph Pettigrew', 'Charlotte Johnson', 'Judson Vess', 'Emma Williams'],\n",
    "               'Age' : [24, 21, 22, 29, 27, 22, 29, 30, 17, 21, 23, 21, 20, 24, 28, 17, 26, 30, 21, 17],\n",
    "               'Grade': [75, 99, 97, 79, 95, 69, 78, 92, 57, 58, 86, 70, 63, 82, 41, 51, 89, 71, 81, 62],\n",
    "               'Attendance': [74, 97, 65, 64, 75, 93, 88, 70, 86, 62, 80, 91, 61, 81, 92, 68, 77, 96, 73, 90],\n",
    "               'Credits': [10, 32, 57, 47, 17, 12, 49, 60, 4, 27, 25, 30, 23, 46, 7, 8, 48, 15, 44, 26],\n",
    "               'Major': ['Computer Science', 'Data Science', 'Mechanical Engineering', 'English Literature', 'Psychology',\n",
    "                        'Networking & Administration', 'History', 'Physics', 'Sociology', 'Computer Science', 'Mathematics',\n",
    "                        'Photography', 'Nursing', 'Business', 'Criminal Justice', 'Mathematics', 'Biology', 'Fine Arts', \n",
    "                        'Data Science', 'Data Science']}"
   ]
  },
  {
   "cell_type": "code",
   "execution_count": 4,
   "metadata": {},
   "outputs": [],
   "source": [
    "MAC270 = pd.DataFrame(student_info)"
   ]
  },
  {
   "cell_type": "code",
   "execution_count": 5,
   "metadata": {},
   "outputs": [
    {
     "data": {
      "text/plain": [
       "(20, 6)"
      ]
     },
     "execution_count": 5,
     "metadata": {},
     "output_type": "execute_result"
    }
   ],
   "source": [
    "MAC270.shape"
   ]
  },
  {
   "cell_type": "code",
   "execution_count": 6,
   "metadata": {},
   "outputs": [
    {
     "name": "stdout",
     "output_type": "stream",
     "text": [
      "Name\n",
      "Age\n",
      "Grade\n",
      "Attendance\n",
      "Credits\n",
      "Major\n"
     ]
    }
   ],
   "source": [
    "for col in MAC270:\n",
    " print(col)"
   ]
  },
  {
   "cell_type": "code",
   "execution_count": 7,
   "metadata": {},
   "outputs": [
    {
     "name": "stdout",
     "output_type": "stream",
     "text": [
      "0\n",
      "1\n",
      "2\n",
      "3\n",
      "4\n",
      "5\n",
      "6\n",
      "7\n",
      "8\n",
      "9\n",
      "10\n",
      "11\n",
      "12\n",
      "13\n",
      "14\n",
      "15\n",
      "16\n",
      "17\n",
      "18\n",
      "19\n"
     ]
    }
   ],
   "source": [
    "for ind in MAC270.index:\n",
    "    print(ind)"
   ]
  },
  {
   "cell_type": "code",
   "execution_count": 8,
   "metadata": {},
   "outputs": [
    {
     "data": {
      "text/html": [
       "<div>\n",
       "<style scoped>\n",
       "    .dataframe tbody tr th:only-of-type {\n",
       "        vertical-align: middle;\n",
       "    }\n",
       "\n",
       "    .dataframe tbody tr th {\n",
       "        vertical-align: top;\n",
       "    }\n",
       "\n",
       "    .dataframe thead th {\n",
       "        text-align: right;\n",
       "    }\n",
       "</style>\n",
       "<table border=\"1\" class=\"dataframe\">\n",
       "  <thead>\n",
       "    <tr style=\"text-align: right;\">\n",
       "      <th></th>\n",
       "      <th>Name</th>\n",
       "      <th>Age</th>\n",
       "      <th>Grade</th>\n",
       "      <th>Attendance</th>\n",
       "      <th>Credits</th>\n",
       "      <th>Major</th>\n",
       "    </tr>\n",
       "  </thead>\n",
       "  <tbody>\n",
       "    <tr>\n",
       "      <th>0</th>\n",
       "      <td>Jamie Sunday</td>\n",
       "      <td>24</td>\n",
       "      <td>75</td>\n",
       "      <td>74</td>\n",
       "      <td>10</td>\n",
       "      <td>Computer Science</td>\n",
       "    </tr>\n",
       "    <tr>\n",
       "      <th>1</th>\n",
       "      <td>Sophie Jones</td>\n",
       "      <td>21</td>\n",
       "      <td>99</td>\n",
       "      <td>97</td>\n",
       "      <td>32</td>\n",
       "      <td>Data Science</td>\n",
       "    </tr>\n",
       "    <tr>\n",
       "      <th>2</th>\n",
       "      <td>Megan Smith</td>\n",
       "      <td>22</td>\n",
       "      <td>97</td>\n",
       "      <td>65</td>\n",
       "      <td>57</td>\n",
       "      <td>Mechanical Engineering</td>\n",
       "    </tr>\n",
       "  </tbody>\n",
       "</table>\n",
       "</div>"
      ],
      "text/plain": [
       "           Name  Age  Grade  Attendance  Credits                   Major\n",
       "0  Jamie Sunday   24     75          74       10        Computer Science\n",
       "1  Sophie Jones   21     99          97       32            Data Science\n",
       "2   Megan Smith   22     97          65       57  Mechanical Engineering"
      ]
     },
     "execution_count": 8,
     "metadata": {},
     "output_type": "execute_result"
    }
   ],
   "source": [
    "MAC270.head(3)"
   ]
  },
  {
   "cell_type": "code",
   "execution_count": 9,
   "metadata": {},
   "outputs": [
    {
     "data": {
      "text/html": [
       "<div>\n",
       "<style scoped>\n",
       "    .dataframe tbody tr th:only-of-type {\n",
       "        vertical-align: middle;\n",
       "    }\n",
       "\n",
       "    .dataframe tbody tr th {\n",
       "        vertical-align: top;\n",
       "    }\n",
       "\n",
       "    .dataframe thead th {\n",
       "        text-align: right;\n",
       "    }\n",
       "</style>\n",
       "<table border=\"1\" class=\"dataframe\">\n",
       "  <thead>\n",
       "    <tr style=\"text-align: right;\">\n",
       "      <th></th>\n",
       "      <th>Name</th>\n",
       "      <th>Age</th>\n",
       "      <th>Grade</th>\n",
       "      <th>Attendance</th>\n",
       "      <th>Credits</th>\n",
       "      <th>Major</th>\n",
       "    </tr>\n",
       "  </thead>\n",
       "  <tbody>\n",
       "    <tr>\n",
       "      <th>15</th>\n",
       "      <td>Hannah Miller</td>\n",
       "      <td>17</td>\n",
       "      <td>51</td>\n",
       "      <td>68</td>\n",
       "      <td>8</td>\n",
       "      <td>Mathematics</td>\n",
       "    </tr>\n",
       "    <tr>\n",
       "      <th>16</th>\n",
       "      <td>Adolph Pettigrew</td>\n",
       "      <td>26</td>\n",
       "      <td>89</td>\n",
       "      <td>77</td>\n",
       "      <td>48</td>\n",
       "      <td>Biology</td>\n",
       "    </tr>\n",
       "    <tr>\n",
       "      <th>17</th>\n",
       "      <td>Charlotte Johnson</td>\n",
       "      <td>30</td>\n",
       "      <td>71</td>\n",
       "      <td>96</td>\n",
       "      <td>15</td>\n",
       "      <td>Fine Arts</td>\n",
       "    </tr>\n",
       "    <tr>\n",
       "      <th>18</th>\n",
       "      <td>Judson Vess</td>\n",
       "      <td>21</td>\n",
       "      <td>81</td>\n",
       "      <td>73</td>\n",
       "      <td>44</td>\n",
       "      <td>Data Science</td>\n",
       "    </tr>\n",
       "    <tr>\n",
       "      <th>19</th>\n",
       "      <td>Emma Williams</td>\n",
       "      <td>17</td>\n",
       "      <td>62</td>\n",
       "      <td>90</td>\n",
       "      <td>26</td>\n",
       "      <td>Data Science</td>\n",
       "    </tr>\n",
       "  </tbody>\n",
       "</table>\n",
       "</div>"
      ],
      "text/plain": [
       "                 Name  Age  Grade  Attendance  Credits         Major\n",
       "15      Hannah Miller   17     51          68        8   Mathematics\n",
       "16   Adolph Pettigrew   26     89          77       48       Biology\n",
       "17  Charlotte Johnson   30     71          96       15     Fine Arts\n",
       "18        Judson Vess   21     81          73       44  Data Science\n",
       "19      Emma Williams   17     62          90       26  Data Science"
      ]
     },
     "execution_count": 9,
     "metadata": {},
     "output_type": "execute_result"
    }
   ],
   "source": [
    "MAC270.tail()"
   ]
  },
  {
   "cell_type": "code",
   "execution_count": 10,
   "metadata": {},
   "outputs": [],
   "source": [
    "Pass_or_Fail = []"
   ]
  },
  {
   "cell_type": "code",
   "execution_count": 11,
   "metadata": {},
   "outputs": [],
   "source": [
    "for row in MAC270['Grade']:\n",
    "    if row >= 65:\n",
    "        Pass_or_Fail.append('P')\n",
    "    else:\n",
    "        Pass_or_Fail.append('F')\n",
    "MAC270['new_col'] = Pass_or_Fail"
   ]
  },
  {
   "cell_type": "code",
   "execution_count": 12,
   "metadata": {},
   "outputs": [
    {
     "data": {
      "text/plain": [
       "Name          object\n",
       "Age            int64\n",
       "Grade          int64\n",
       "Attendance     int64\n",
       "Credits        int64\n",
       "Major         object\n",
       "new_col       object\n",
       "dtype: object"
      ]
     },
     "execution_count": 12,
     "metadata": {},
     "output_type": "execute_result"
    }
   ],
   "source": [
    "MAC270.dtypes"
   ]
  },
  {
   "cell_type": "code",
   "execution_count": 13,
   "metadata": {},
   "outputs": [
    {
     "data": {
      "text/html": [
       "<div>\n",
       "<style scoped>\n",
       "    .dataframe tbody tr th:only-of-type {\n",
       "        vertical-align: middle;\n",
       "    }\n",
       "\n",
       "    .dataframe tbody tr th {\n",
       "        vertical-align: top;\n",
       "    }\n",
       "\n",
       "    .dataframe thead th {\n",
       "        text-align: right;\n",
       "    }\n",
       "</style>\n",
       "<table border=\"1\" class=\"dataframe\">\n",
       "  <thead>\n",
       "    <tr style=\"text-align: right;\">\n",
       "      <th></th>\n",
       "      <th>Name</th>\n",
       "      <th>Age</th>\n",
       "      <th>Grade</th>\n",
       "      <th>Attendance</th>\n",
       "      <th>Credits</th>\n",
       "      <th>Major</th>\n",
       "    </tr>\n",
       "  </thead>\n",
       "  <tbody>\n",
       "    <tr>\n",
       "      <th>0</th>\n",
       "      <td>Jamie Sunday</td>\n",
       "      <td>24</td>\n",
       "      <td>75</td>\n",
       "      <td>74</td>\n",
       "      <td>10</td>\n",
       "      <td>Computer Science</td>\n",
       "    </tr>\n",
       "    <tr>\n",
       "      <th>1</th>\n",
       "      <td>Sophie Jones</td>\n",
       "      <td>21</td>\n",
       "      <td>99</td>\n",
       "      <td>97</td>\n",
       "      <td>32</td>\n",
       "      <td>Data Science</td>\n",
       "    </tr>\n",
       "    <tr>\n",
       "      <th>2</th>\n",
       "      <td>Megan Smith</td>\n",
       "      <td>22</td>\n",
       "      <td>97</td>\n",
       "      <td>65</td>\n",
       "      <td>57</td>\n",
       "      <td>Mechanical Engineering</td>\n",
       "    </tr>\n",
       "    <tr>\n",
       "      <th>3</th>\n",
       "      <td>Nathanial Christo</td>\n",
       "      <td>29</td>\n",
       "      <td>79</td>\n",
       "      <td>64</td>\n",
       "      <td>47</td>\n",
       "      <td>English Literature</td>\n",
       "    </tr>\n",
       "    <tr>\n",
       "      <th>4</th>\n",
       "      <td>Jessica Wilson</td>\n",
       "      <td>27</td>\n",
       "      <td>95</td>\n",
       "      <td>75</td>\n",
       "      <td>17</td>\n",
       "      <td>Psychology</td>\n",
       "    </tr>\n",
       "    <tr>\n",
       "      <th>5</th>\n",
       "      <td>Brenton Loiselle</td>\n",
       "      <td>22</td>\n",
       "      <td>69</td>\n",
       "      <td>93</td>\n",
       "      <td>12</td>\n",
       "      <td>Networking &amp; Administration</td>\n",
       "    </tr>\n",
       "    <tr>\n",
       "      <th>6</th>\n",
       "      <td>Emily Brown</td>\n",
       "      <td>29</td>\n",
       "      <td>78</td>\n",
       "      <td>88</td>\n",
       "      <td>49</td>\n",
       "      <td>History</td>\n",
       "    </tr>\n",
       "    <tr>\n",
       "      <th>7</th>\n",
       "      <td>Sid Enochs</td>\n",
       "      <td>30</td>\n",
       "      <td>92</td>\n",
       "      <td>70</td>\n",
       "      <td>60</td>\n",
       "      <td>Physics</td>\n",
       "    </tr>\n",
       "    <tr>\n",
       "      <th>8</th>\n",
       "      <td>Rogelio Nolan</td>\n",
       "      <td>17</td>\n",
       "      <td>57</td>\n",
       "      <td>86</td>\n",
       "      <td>4</td>\n",
       "      <td>Sociology</td>\n",
       "    </tr>\n",
       "    <tr>\n",
       "      <th>9</th>\n",
       "      <td>Lou Granillo</td>\n",
       "      <td>21</td>\n",
       "      <td>58</td>\n",
       "      <td>62</td>\n",
       "      <td>27</td>\n",
       "      <td>Computer Science</td>\n",
       "    </tr>\n",
       "    <tr>\n",
       "      <th>10</th>\n",
       "      <td>Olivia Rodriguez</td>\n",
       "      <td>23</td>\n",
       "      <td>86</td>\n",
       "      <td>80</td>\n",
       "      <td>25</td>\n",
       "      <td>Mathematics</td>\n",
       "    </tr>\n",
       "    <tr>\n",
       "      <th>11</th>\n",
       "      <td>Heath Heater</td>\n",
       "      <td>21</td>\n",
       "      <td>70</td>\n",
       "      <td>91</td>\n",
       "      <td>30</td>\n",
       "      <td>Photography</td>\n",
       "    </tr>\n",
       "    <tr>\n",
       "      <th>12</th>\n",
       "      <td>Bruce Keas</td>\n",
       "      <td>20</td>\n",
       "      <td>63</td>\n",
       "      <td>61</td>\n",
       "      <td>23</td>\n",
       "      <td>Nursing</td>\n",
       "    </tr>\n",
       "    <tr>\n",
       "      <th>13</th>\n",
       "      <td>Chloe Gracia</td>\n",
       "      <td>24</td>\n",
       "      <td>82</td>\n",
       "      <td>81</td>\n",
       "      <td>46</td>\n",
       "      <td>Business</td>\n",
       "    </tr>\n",
       "    <tr>\n",
       "      <th>14</th>\n",
       "      <td>Lucy Davis</td>\n",
       "      <td>28</td>\n",
       "      <td>41</td>\n",
       "      <td>92</td>\n",
       "      <td>7</td>\n",
       "      <td>Criminal Justice</td>\n",
       "    </tr>\n",
       "    <tr>\n",
       "      <th>15</th>\n",
       "      <td>Hannah Miller</td>\n",
       "      <td>17</td>\n",
       "      <td>51</td>\n",
       "      <td>68</td>\n",
       "      <td>8</td>\n",
       "      <td>Mathematics</td>\n",
       "    </tr>\n",
       "    <tr>\n",
       "      <th>16</th>\n",
       "      <td>Adolph Pettigrew</td>\n",
       "      <td>26</td>\n",
       "      <td>89</td>\n",
       "      <td>77</td>\n",
       "      <td>48</td>\n",
       "      <td>Biology</td>\n",
       "    </tr>\n",
       "    <tr>\n",
       "      <th>17</th>\n",
       "      <td>Charlotte Johnson</td>\n",
       "      <td>30</td>\n",
       "      <td>71</td>\n",
       "      <td>96</td>\n",
       "      <td>15</td>\n",
       "      <td>Fine Arts</td>\n",
       "    </tr>\n",
       "    <tr>\n",
       "      <th>18</th>\n",
       "      <td>Judson Vess</td>\n",
       "      <td>21</td>\n",
       "      <td>81</td>\n",
       "      <td>73</td>\n",
       "      <td>44</td>\n",
       "      <td>Data Science</td>\n",
       "    </tr>\n",
       "    <tr>\n",
       "      <th>19</th>\n",
       "      <td>Emma Williams</td>\n",
       "      <td>17</td>\n",
       "      <td>62</td>\n",
       "      <td>90</td>\n",
       "      <td>26</td>\n",
       "      <td>Data Science</td>\n",
       "    </tr>\n",
       "  </tbody>\n",
       "</table>\n",
       "</div>"
      ],
      "text/plain": [
       "                 Name  Age  Grade  Attendance  Credits  \\\n",
       "0        Jamie Sunday   24     75          74       10   \n",
       "1        Sophie Jones   21     99          97       32   \n",
       "2         Megan Smith   22     97          65       57   \n",
       "3   Nathanial Christo   29     79          64       47   \n",
       "4      Jessica Wilson   27     95          75       17   \n",
       "5    Brenton Loiselle   22     69          93       12   \n",
       "6         Emily Brown   29     78          88       49   \n",
       "7          Sid Enochs   30     92          70       60   \n",
       "8       Rogelio Nolan   17     57          86        4   \n",
       "9        Lou Granillo   21     58          62       27   \n",
       "10   Olivia Rodriguez   23     86          80       25   \n",
       "11       Heath Heater   21     70          91       30   \n",
       "12         Bruce Keas   20     63          61       23   \n",
       "13       Chloe Gracia   24     82          81       46   \n",
       "14         Lucy Davis   28     41          92        7   \n",
       "15      Hannah Miller   17     51          68        8   \n",
       "16   Adolph Pettigrew   26     89          77       48   \n",
       "17  Charlotte Johnson   30     71          96       15   \n",
       "18        Judson Vess   21     81          73       44   \n",
       "19      Emma Williams   17     62          90       26   \n",
       "\n",
       "                          Major  \n",
       "0              Computer Science  \n",
       "1                  Data Science  \n",
       "2        Mechanical Engineering  \n",
       "3            English Literature  \n",
       "4                    Psychology  \n",
       "5   Networking & Administration  \n",
       "6                       History  \n",
       "7                       Physics  \n",
       "8                     Sociology  \n",
       "9              Computer Science  \n",
       "10                  Mathematics  \n",
       "11                  Photography  \n",
       "12                      Nursing  \n",
       "13                     Business  \n",
       "14             Criminal Justice  \n",
       "15                  Mathematics  \n",
       "16                      Biology  \n",
       "17                    Fine Arts  \n",
       "18                 Data Science  \n",
       "19                 Data Science  "
      ]
     },
     "execution_count": 13,
     "metadata": {},
     "output_type": "execute_result"
    }
   ],
   "source": [
    "MAC270.drop(columns = ['new_col'])"
   ]
  },
  {
   "cell_type": "markdown",
   "metadata": {},
   "source": [
    "# Comparing the grades of the students in this class using a scatter plot"
   ]
  },
  {
   "cell_type": "code",
   "execution_count": 14,
   "metadata": {},
   "outputs": [
    {
     "data": {
      "text/plain": [
       "<matplotlib.collections.PathCollection at 0x1f37ba16da0>"
      ]
     },
     "execution_count": 14,
     "metadata": {},
     "output_type": "execute_result"
    },
    {
     "data": {
      "image/png": "[encoded data removed]",
      "text/plain": [
       "<Figure size 432x288 with 1 Axes>"
      ]
     },
     "metadata": {
      "needs_background": "light"
     },
     "output_type": "display_data"
    }
   ],
   "source": [
    "plt.scatter(MAC270.index, MAC270['Grade'])"
   ]
  },
  {
   "cell_type": "code",
   "execution_count": 15,
   "metadata": {},
   "outputs": [
    {
     "data": {
      "text/plain": [
       "[<matplotlib.lines.Line2D at 0x1f37ba79470>]"
      ]
     },
     "execution_count": 15,
     "metadata": {},
     "output_type": "execute_result"
    },
    {
     "data": {
      "image/png": "[encoded data removed]",
      "text/plain": [
       "<Figure size 432x288 with 1 Axes>"
      ]
     },
     "metadata": {
      "needs_background": "light"
     },
     "output_type": "display_data"
    }
   ],
   "source": [
    "plt.plot(MAC270.index, MAC270['Grade'])"
   ]
  },
  {
   "cell_type": "markdown",
   "metadata": {},
   "source": [
    "# Part 2"
   ]
  },
  {
   "cell_type": "code",
   "execution_count": 17,
   "metadata": {},
   "outputs": [],
   "source": [
    "MAC270=pd.read_table('chipotle.tsv')"
   ]
  },
  {
   "cell_type": "code",
   "execution_count": 18,
   "metadata": {},
   "outputs": [
    {
     "data": {
      "text/html": [
       "<div>\n",
       "<style scoped>\n",
       "    .dataframe tbody tr th:only-of-type {\n",
       "        vertical-align: middle;\n",
       "    }\n",
       "\n",
       "    .dataframe tbody tr th {\n",
       "        vertical-align: top;\n",
       "    }\n",
       "\n",
       "    .dataframe thead th {\n",
       "        text-align: right;\n",
       "    }\n",
       "</style>\n",
       "<table border=\"1\" class=\"dataframe\">\n",
       "  <thead>\n",
       "    <tr style=\"text-align: right;\">\n",
       "      <th></th>\n",
       "      <th>order_id</th>\n",
       "      <th>quantity</th>\n",
       "      <th>item_name</th>\n",
       "      <th>choice_description</th>\n",
       "      <th>item_price</th>\n",
       "    </tr>\n",
       "  </thead>\n",
       "  <tbody>\n",
       "    <tr>\n",
       "      <th>0</th>\n",
       "      <td>1</td>\n",
       "      <td>1</td>\n",
       "      <td>Chips and Fresh Tomato Salsa</td>\n",
       "      <td>NaN</td>\n",
       "      <td>$2.39</td>\n",
       "    </tr>\n",
       "    <tr>\n",
       "      <th>1</th>\n",
       "      <td>1</td>\n",
       "      <td>1</td>\n",
       "      <td>Izze</td>\n",
       "      <td>[Clementine]</td>\n",
       "      <td>$3.39</td>\n",
       "    </tr>\n",
       "    <tr>\n",
       "      <th>2</th>\n",
       "      <td>1</td>\n",
       "      <td>1</td>\n",
       "      <td>Nantucket Nectar</td>\n",
       "      <td>[Apple]</td>\n",
       "      <td>$3.39</td>\n",
       "    </tr>\n",
       "    <tr>\n",
       "      <th>3</th>\n",
       "      <td>1</td>\n",
       "      <td>1</td>\n",
       "      <td>Chips and Tomatillo-Green Chili Salsa</td>\n",
       "      <td>NaN</td>\n",
       "      <td>$2.39</td>\n",
       "    </tr>\n",
       "    <tr>\n",
       "      <th>4</th>\n",
       "      <td>2</td>\n",
       "      <td>2</td>\n",
       "      <td>Chicken Bowl</td>\n",
       "      <td>[Tomatillo-Red Chili Salsa (Hot), [Black Beans...</td>\n",
       "      <td>$16.98</td>\n",
       "    </tr>\n",
       "  </tbody>\n",
       "</table>\n",
       "</div>"
      ],
      "text/plain": [
       "   order_id  quantity                              item_name  \\\n",
       "0         1         1           Chips and Fresh Tomato Salsa   \n",
       "1         1         1                                   Izze   \n",
       "2         1         1                       Nantucket Nectar   \n",
       "3         1         1  Chips and Tomatillo-Green Chili Salsa   \n",
       "4         2         2                           Chicken Bowl   \n",
       "\n",
       "                                  choice_description item_price  \n",
       "0                                                NaN     $2.39   \n",
       "1                                       [Clementine]     $3.39   \n",
       "2                                            [Apple]     $3.39   \n",
       "3                                                NaN     $2.39   \n",
       "4  [Tomatillo-Red Chili Salsa (Hot), [Black Beans...    $16.98   "
      ]
     },
     "execution_count": 18,
     "metadata": {},
     "output_type": "execute_result"
    }
   ],
   "source": [
    "MAC270.head(5)"
   ]
  },
  {
   "cell_type": "code",
   "execution_count": 19,
   "metadata": {},
   "outputs": [
    {
     "data": {
      "image/png": "[encoded data removed]",
      "text/plain": [
       "<Figure size 432x288 with 1 Axes>"
      ]
     },
     "metadata": {
      "needs_background": "light"
     },
     "output_type": "display_data"
    }
   ],
   "source": [
    "items = MAC270.item_name.value_counts()[:5].plot(kind='hist')"
   ]
  },
  {
   "cell_type": "code",
   "execution_count": 20,
   "metadata": {},
   "outputs": [],
   "source": [
    "MAC270['item_price']=MAC270['item_price'].str.replace('$','')"
   ]
  },
  {
   "cell_type": "code",
   "execution_count": 21,
   "metadata": {},
   "outputs": [],
   "source": [
    "MAC270['item_price']=MAC270['item_price'].astype(float)"
   ]
  },
  {
   "cell_type": "code",
   "execution_count": 22,
   "metadata": {},
   "outputs": [],
   "source": [
    "orders = MAC270.groupby('order_id').sum()"
   ]
  },
  {
   "cell_type": "code",
   "execution_count": 23,
   "metadata": {},
   "outputs": [],
   "source": [
    "item_count=MAC270.order_id.value_counts()\n"
   ]
  },
  {
   "cell_type": "code",
   "execution_count": 24,
   "metadata": {},
   "outputs": [
    {
     "data": {
      "text/plain": [
       "<matplotlib.collections.PathCollection at 0x1f37bb1a978>"
      ]
     },
     "execution_count": 24,
     "metadata": {},
     "output_type": "execute_result"
    },
    {
     "data": {
      "image/png": "[encoded data removed]",
      "text/plain": [
       "<Figure size 432x288 with 1 Axes>"
      ]
     },
     "metadata": {
      "needs_background": "light"
     },
     "output_type": "display_data"
    }
   ],
   "source": [
    "plt.scatter(item_count,orders['item_price'])"
   ]
  },
  {
   "cell_type": "code",
   "execution_count": 25,
   "metadata": {},
   "outputs": [
    {
     "data": {
      "image/png": "[encoded data removed]",
      "text/plain": [
       "<Figure size 432x288 with 1 Axes>"
      ]
     },
     "metadata": {},
     "output_type": "display_data"
    }
   ],
   "source": [
    "pop= MAC270.item_name.value_counts()[:10].plot(kind='pie')"
   ]
  },
  {
   "cell_type": "code",
   "execution_count": null,
   "metadata": {},
   "outputs": [],
   "source": []
  }
 ],
 "metadata": {
  "kernelspec": {
   "display_name": "Python 3",
   "language": "python",
   "name": "python3"
  },
  "language_info": {
   "codemirror_mode": {
    "name": "ipython",
    "version": 3
   },
   "file_extension": ".py",
   "mimetype": "text/x-python",
   "name": "python",
   "nbconvert_exporter": "python",
   "pygments_lexer": "ipython3",
   "version": "3.7.1"
  }
 },
 "nbformat": 4,
 "nbformat_minor": 2
}
